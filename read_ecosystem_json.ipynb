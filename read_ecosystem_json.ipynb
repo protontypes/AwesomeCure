{
 "cells": [
  {
   "cell_type": "code",
   "execution_count": 2,
   "id": "20f5b7dd",
   "metadata": {},
   "outputs": [
    {
     "data": {
      "text/html": [
       "<div>\n",
       "<style scoped>\n",
       "    .dataframe tbody tr th:only-of-type {\n",
       "        vertical-align: middle;\n",
       "    }\n",
       "\n",
       "    .dataframe tbody tr th {\n",
       "        vertical-align: top;\n",
       "    }\n",
       "\n",
       "    .dataframe thead th {\n",
       "        text-align: right;\n",
       "    }\n",
       "</style>\n",
       "<table border=\"1\" class=\"dataframe\">\n",
       "  <thead>\n",
       "    <tr style=\"text-align: right;\">\n",
       "      <th></th>\n",
       "      <th>id</th>\n",
       "      <th>name</th>\n",
       "      <th>description</th>\n",
       "      <th>url</th>\n",
       "      <th>last_synced_at</th>\n",
       "      <th>repository</th>\n",
       "      <th>owner</th>\n",
       "      <th>packages</th>\n",
       "      <th>commits</th>\n",
       "      <th>issues_stats</th>\n",
       "      <th>...</th>\n",
       "      <th>dependencies</th>\n",
       "      <th>score</th>\n",
       "      <th>created_at</th>\n",
       "      <th>updated_at</th>\n",
       "      <th>avatar_url</th>\n",
       "      <th>language</th>\n",
       "      <th>category</th>\n",
       "      <th>sub_category</th>\n",
       "      <th>project_url</th>\n",
       "      <th>html_url</th>\n",
       "    </tr>\n",
       "  </thead>\n",
       "  <tbody>\n",
       "    <tr>\n",
       "      <th>0</th>\n",
       "      <td>20618</td>\n",
       "      <td>netcdf-python</td>\n",
       "      <td>The Unidata network Common Data Form (netCDF) ...</td>\n",
       "      <td>https://github.com/Unidata/netcdf4-python</td>\n",
       "      <td>2023-12-07 01:19:20.097000+00:00</td>\n",
       "      <td>{'uuid': '15884459', 'full_name': 'Unidata/net...</td>\n",
       "      <td>{'login': 'Unidata', 'name': 'Unidata', 'uuid'...</td>\n",
       "      <td>[{'name': 'netcdf4', 'ecosystem': 'pypi', 'des...</td>\n",
       "      <td>{'full_name': 'Unidata/netcdf4-python', 'defau...</td>\n",
       "      <td>{'full_name': 'Unidata/netcdf4-python', 'html_...</td>\n",
       "      <td>...</td>\n",
       "      <td>[{'ecosystem': 'actions', 'filepath': '.github...</td>\n",
       "      <td>25.510734</td>\n",
       "      <td>2023-09-11 14:52:14.006000+00:00</td>\n",
       "      <td>2023-12-07 01:19:20.100000+00:00</td>\n",
       "      <td>https://github.com/Unidata.png</td>\n",
       "      <td>Cython</td>\n",
       "      <td>Climate Change</td>\n",
       "      <td>Climate Data Standards</td>\n",
       "      <td>https://ost.ecosyste.ms/api/v1/projects/20618</td>\n",
       "      <td>https://ost.ecosyste.ms/projects/20618</td>\n",
       "    </tr>\n",
       "    <tr>\n",
       "      <th>1</th>\n",
       "      <td>19753</td>\n",
       "      <td>pvlib-python</td>\n",
       "      <td>A set of documented functions for simulating t...</td>\n",
       "      <td>https://github.com/pvlib/pvlib-python</td>\n",
       "      <td>2023-12-07 00:53:31.605000+00:00</td>\n",
       "      <td>{'uuid': '30895522', 'full_name': 'pvlib/pvlib...</td>\n",
       "      <td>{'login': 'pvlib', 'name': 'pvlib', 'uuid': '1...</td>\n",
       "      <td>[{'name': 'pvlib', 'ecosystem': 'pypi', 'descr...</td>\n",
       "      <td>{'full_name': 'pvlib/pvlib-python', 'default_b...</td>\n",
       "      <td>{'full_name': 'pvlib/pvlib-python', 'html_url'...</td>\n",
       "      <td>...</td>\n",
       "      <td>[{'ecosystem': 'actions', 'filepath': '.github...</td>\n",
       "      <td>24.248670</td>\n",
       "      <td>2023-09-11 14:52:06.879000+00:00</td>\n",
       "      <td>2023-12-07 00:53:31.610000+00:00</td>\n",
       "      <td>https://github.com/pvlib.png</td>\n",
       "      <td>Python</td>\n",
       "      <td>Renewable Energy</td>\n",
       "      <td>Photovoltaics and Solar Energy</td>\n",
       "      <td>https://ost.ecosyste.ms/api/v1/projects/19753</td>\n",
       "      <td>https://ost.ecosyste.ms/projects/19753</td>\n",
       "    </tr>\n",
       "    <tr>\n",
       "      <th>2</th>\n",
       "      <td>20183</td>\n",
       "      <td>kube-green</td>\n",
       "      <td>A k8s operator to reduce CO2 footprint of your...</td>\n",
       "      <td>https://github.com/kube-green/kube-green</td>\n",
       "      <td>2023-12-08 05:15:16.153000+00:00</td>\n",
       "      <td>{'uuid': '340965344', 'full_name': 'kube-green...</td>\n",
       "      <td>{'login': 'kube-green', 'name': 'kube-green', ...</td>\n",
       "      <td>[{'name': 'kubegreen/kube-green', 'ecosystem':...</td>\n",
       "      <td>{'full_name': 'kube-green/kube-green', 'defaul...</td>\n",
       "      <td>{'full_name': 'kube-green/kube-green', 'html_u...</td>\n",
       "      <td>...</td>\n",
       "      <td>[{'ecosystem': 'actions', 'filepath': '.github...</td>\n",
       "      <td>21.249127</td>\n",
       "      <td>2023-09-11 14:52:10.530000+00:00</td>\n",
       "      <td>2023-12-08 05:15:16.167000+00:00</td>\n",
       "      <td>https://github.com/kube-green.png</td>\n",
       "      <td>Go</td>\n",
       "      <td>Consumption</td>\n",
       "      <td>Computation and Communication</td>\n",
       "      <td>https://ost.ecosyste.ms/api/v1/projects/20183</td>\n",
       "      <td>https://ost.ecosyste.ms/projects/20183</td>\n",
       "    </tr>\n",
       "    <tr>\n",
       "      <th>3</th>\n",
       "      <td>764</td>\n",
       "      <td>eeweather</td>\n",
       "      <td>Fetch NCDC ISD, TMY3, or CZ2010 weather data t...</td>\n",
       "      <td>https://github.com/openeemeter/eeweather</td>\n",
       "      <td>2023-12-07 00:50:29.800000+00:00</td>\n",
       "      <td>{'uuid': '119442616', 'full_name': 'openeemete...</td>\n",
       "      <td>{'login': 'openeemeter', 'name': 'OpenEEmeter'...</td>\n",
       "      <td>[{'name': 'eeweather', 'ecosystem': 'pypi', 'd...</td>\n",
       "      <td>{'full_name': 'openeemeter/eeweather', 'defaul...</td>\n",
       "      <td>{'full_name': 'openeemeter/eeweather', 'html_u...</td>\n",
       "      <td>...</td>\n",
       "      <td>[{'ecosystem': 'pypi', 'filepath': 'Pipfile', ...</td>\n",
       "      <td>18.043913</td>\n",
       "      <td>2023-09-11 11:54:35.868000+00:00</td>\n",
       "      <td>2023-12-07 00:50:29.813000+00:00</td>\n",
       "      <td>https://github.com/openeemeter.png</td>\n",
       "      <td>HTML</td>\n",
       "      <td>Atmosphere</td>\n",
       "      <td>Meteorological Observation and Forecast</td>\n",
       "      <td>https://ost.ecosyste.ms/api/v1/projects/764</td>\n",
       "      <td>https://ost.ecosyste.ms/projects/764</td>\n",
       "    </tr>\n",
       "    <tr>\n",
       "      <th>4</th>\n",
       "      <td>899</td>\n",
       "      <td>cfgrib</td>\n",
       "      <td>A Python interface to map GRIB files to the Ne...</td>\n",
       "      <td>https://github.com/ecmwf/cfgrib</td>\n",
       "      <td>2023-12-07 00:52:34.924000+00:00</td>\n",
       "      <td>{'uuid': '141110423', 'full_name': 'ecmwf/cfgr...</td>\n",
       "      <td>{'login': 'ecmwf', 'name': 'European Centre fo...</td>\n",
       "      <td>[{'name': 'cfgrib', 'ecosystem': 'pypi', 'desc...</td>\n",
       "      <td>{'full_name': 'ecmwf/cfgrib', 'default_branch'...</td>\n",
       "      <td>{'full_name': 'ecmwf/cfgrib', 'html_url': 'htt...</td>\n",
       "      <td>...</td>\n",
       "      <td>[{'ecosystem': 'pypi', 'filepath': 'ci/require...</td>\n",
       "      <td>20.712966</td>\n",
       "      <td>2023-09-11 11:54:36.281000+00:00</td>\n",
       "      <td>2023-12-07 00:52:34.927000+00:00</td>\n",
       "      <td>https://github.com/ecmwf.png</td>\n",
       "      <td>Python</td>\n",
       "      <td>Climate Change</td>\n",
       "      <td>Climate Data Processing and Analysis</td>\n",
       "      <td>https://ost.ecosyste.ms/api/v1/projects/899</td>\n",
       "      <td>https://ost.ecosyste.ms/projects/899</td>\n",
       "    </tr>\n",
       "    <tr>\n",
       "      <th>...</th>\n",
       "      <td>...</td>\n",
       "      <td>...</td>\n",
       "      <td>...</td>\n",
       "      <td>...</td>\n",
       "      <td>...</td>\n",
       "      <td>...</td>\n",
       "      <td>...</td>\n",
       "      <td>...</td>\n",
       "      <td>...</td>\n",
       "      <td>...</td>\n",
       "      <td>...</td>\n",
       "      <td>...</td>\n",
       "      <td>...</td>\n",
       "      <td>...</td>\n",
       "      <td>...</td>\n",
       "      <td>...</td>\n",
       "      <td>...</td>\n",
       "      <td>...</td>\n",
       "      <td>...</td>\n",
       "      <td>...</td>\n",
       "      <td>...</td>\n",
       "    </tr>\n",
       "    <tr>\n",
       "      <th>662</th>\n",
       "      <td>685</td>\n",
       "      <td>Raven</td>\n",
       "      <td>Made to help scientists run hydrological model...</td>\n",
       "      <td>https://github.com/Ouranosinc/raven</td>\n",
       "      <td>2023-12-07 00:52:01.052000+00:00</td>\n",
       "      <td>{'uuid': '135511617', 'full_name': 'Ouranosinc...</td>\n",
       "      <td>{'login': 'Ouranosinc', 'name': 'Ouranos inc.'...</td>\n",
       "      <td>[{'name': 'github.com/ouranosinc/raven', 'ecos...</td>\n",
       "      <td>{'full_name': 'Ouranosinc/raven', 'default_bra...</td>\n",
       "      <td>{'full_name': 'Ouranosinc/raven', 'html_url': ...</td>\n",
       "      <td>...</td>\n",
       "      <td>[{'ecosystem': 'actions', 'filepath': '.github...</td>\n",
       "      <td>NaN</td>\n",
       "      <td>2023-09-11 11:54:35.653000+00:00</td>\n",
       "      <td>2023-12-07 00:52:01.055000+00:00</td>\n",
       "      <td>https://github.com/Ouranosinc.png</td>\n",
       "      <td>Python</td>\n",
       "      <td>Hydrosphere</td>\n",
       "      <td>Freshwater and Hydrology</td>\n",
       "      <td>https://ost.ecosyste.ms/api/v1/projects/685</td>\n",
       "      <td>https://ost.ecosyste.ms/projects/685</td>\n",
       "    </tr>\n",
       "    <tr>\n",
       "      <th>663</th>\n",
       "      <td>19992</td>\n",
       "      <td>PowerModelsAnnex.jl</td>\n",
       "      <td>An extension of PowerModels.jl that provides a...</td>\n",
       "      <td>https://github.com/lanl-ansi/PowerModelsAnnex.jl</td>\n",
       "      <td>2023-12-07 00:52:53.294000+00:00</td>\n",
       "      <td>{'uuid': '98562693', 'full_name': 'lanl-ansi/P...</td>\n",
       "      <td>{'login': 'lanl-ansi', 'name': 'advanced netwo...</td>\n",
       "      <td>[{'name': 'PowerModelsAnnex', 'ecosystem': 'ju...</td>\n",
       "      <td>{'full_name': 'lanl-ansi/PowerModelsAnnex.jl',...</td>\n",
       "      <td>{'full_name': 'lanl-ansi/PowerModelsAnnex.jl',...</td>\n",
       "      <td>...</td>\n",
       "      <td>[{'ecosystem': 'actions', 'filepath': '.github...</td>\n",
       "      <td>NaN</td>\n",
       "      <td>2023-09-11 14:52:08.854000+00:00</td>\n",
       "      <td>2023-12-07 00:52:53.296000+00:00</td>\n",
       "      <td>https://github.com/lanl-ansi.png</td>\n",
       "      <td>Julia</td>\n",
       "      <td>Energy Systems</td>\n",
       "      <td>Energy Distribution and Grids</td>\n",
       "      <td>https://ost.ecosyste.ms/api/v1/projects/19992</td>\n",
       "      <td>https://ost.ecosyste.ms/projects/19992</td>\n",
       "    </tr>\n",
       "    <tr>\n",
       "      <th>664</th>\n",
       "      <td>68314</td>\n",
       "      <td>OpenFLUID</td>\n",
       "      <td>A software environment for modeling and simula...</td>\n",
       "      <td>https://github.com/openfluid/openfluid</td>\n",
       "      <td>2023-12-06 04:40:20.791000+00:00</td>\n",
       "      <td>{'uuid': '7731111', 'full_name': 'OpenFLUID/op...</td>\n",
       "      <td>{'login': 'OpenFLUID', 'name': 'OpenFLUID', 'u...</td>\n",
       "      <td>[{'name': 'github.com/OpenFLUID/openfluid', 'e...</td>\n",
       "      <td>{'full_name': 'OpenFLUID/openfluid', 'default_...</td>\n",
       "      <td>{'full_name': 'OpenFLUID/openfluid', 'html_url...</td>\n",
       "      <td>...</td>\n",
       "      <td>[{'ecosystem': 'actions', 'filepath': '.github...</td>\n",
       "      <td>NaN</td>\n",
       "      <td>2023-09-18 13:14:07.206000+00:00</td>\n",
       "      <td>2023-12-06 04:40:20.793000+00:00</td>\n",
       "      <td>https://github.com/OpenFLUID.png</td>\n",
       "      <td>C++</td>\n",
       "      <td>Natural Resources</td>\n",
       "      <td>Soil and Land</td>\n",
       "      <td>https://ost.ecosyste.ms/api/v1/projects/68314</td>\n",
       "      <td>https://ost.ecosyste.ms/projects/68314</td>\n",
       "    </tr>\n",
       "    <tr>\n",
       "      <th>665</th>\n",
       "      <td>19837</td>\n",
       "      <td>WecOptTool</td>\n",
       "      <td>Allows users to perform wave energy converter ...</td>\n",
       "      <td>https://github.com/SNL-WaterPower/WecOptTool</td>\n",
       "      <td>2023-12-07 00:53:50.406000+00:00</td>\n",
       "      <td>{'uuid': '639068202', 'full_name': 'SNL-WaterP...</td>\n",
       "      <td>{'login': 'SNL-WaterPower', 'name': 'Sandia Na...</td>\n",
       "      <td>[{'name': 'github.com/snl-waterpower/wecopttoo...</td>\n",
       "      <td>{'full_name': 'SNL-WaterPower/WecOptTool', 'de...</td>\n",
       "      <td>{'full_name': 'SNL-WaterPower/WecOptTool', 'ht...</td>\n",
       "      <td>...</td>\n",
       "      <td>[]</td>\n",
       "      <td>NaN</td>\n",
       "      <td>2023-09-11 14:52:07.489000+00:00</td>\n",
       "      <td>2023-12-07 00:53:50.408000+00:00</td>\n",
       "      <td>https://github.com/SNL-WaterPower.png</td>\n",
       "      <td>HTML</td>\n",
       "      <td>Renewable Energy</td>\n",
       "      <td>Hydro Energy</td>\n",
       "      <td>https://ost.ecosyste.ms/api/v1/projects/19837</td>\n",
       "      <td>https://ost.ecosyste.ms/projects/19837</td>\n",
       "    </tr>\n",
       "    <tr>\n",
       "      <th>666</th>\n",
       "      <td>68244</td>\n",
       "      <td>SEED</td>\n",
       "      <td>Standard Energy Efficiency Data Platform™ is a...</td>\n",
       "      <td>https://github.com/seed-platform/seed</td>\n",
       "      <td>2023-12-06 04:14:15.641000+00:00</td>\n",
       "      <td>{'uuid': '25450714', 'full_name': 'SEED-platfo...</td>\n",
       "      <td>{'login': 'SEED-platform', 'name': 'Standard E...</td>\n",
       "      <td>[{'name': 'github.com/seed-platform/seed', 'ec...</td>\n",
       "      <td>{'full_name': 'SEED-platform/seed', 'default_b...</td>\n",
       "      <td>{'full_name': 'SEED-platform/seed', 'html_url'...</td>\n",
       "      <td>...</td>\n",
       "      <td>[{'ecosystem': 'actions', 'filepath': '.github...</td>\n",
       "      <td>NaN</td>\n",
       "      <td>2023-09-18 13:14:03.773000+00:00</td>\n",
       "      <td>2023-12-08 00:03:43.471000+00:00</td>\n",
       "      <td>https://github.com/SEED-platform.png</td>\n",
       "      <td>Python</td>\n",
       "      <td>Consumption</td>\n",
       "      <td>Buildings and Heating</td>\n",
       "      <td>https://ost.ecosyste.ms/api/v1/projects/68244</td>\n",
       "      <td>https://ost.ecosyste.ms/projects/68244</td>\n",
       "    </tr>\n",
       "  </tbody>\n",
       "</table>\n",
       "<p>667 rows × 22 columns</p>\n",
       "</div>"
      ],
      "text/plain": [
       "        id                 name  \\\n",
       "0    20618        netcdf-python   \n",
       "1    19753         pvlib-python   \n",
       "2    20183           kube-green   \n",
       "3      764            eeweather   \n",
       "4      899               cfgrib   \n",
       "..     ...                  ...   \n",
       "662    685                Raven   \n",
       "663  19992  PowerModelsAnnex.jl   \n",
       "664  68314            OpenFLUID   \n",
       "665  19837           WecOptTool   \n",
       "666  68244                 SEED   \n",
       "\n",
       "                                           description  \\\n",
       "0    The Unidata network Common Data Form (netCDF) ...   \n",
       "1    A set of documented functions for simulating t...   \n",
       "2    A k8s operator to reduce CO2 footprint of your...   \n",
       "3    Fetch NCDC ISD, TMY3, or CZ2010 weather data t...   \n",
       "4    A Python interface to map GRIB files to the Ne...   \n",
       "..                                                 ...   \n",
       "662  Made to help scientists run hydrological model...   \n",
       "663  An extension of PowerModels.jl that provides a...   \n",
       "664  A software environment for modeling and simula...   \n",
       "665  Allows users to perform wave energy converter ...   \n",
       "666  Standard Energy Efficiency Data Platform™ is a...   \n",
       "\n",
       "                                                  url  \\\n",
       "0           https://github.com/Unidata/netcdf4-python   \n",
       "1               https://github.com/pvlib/pvlib-python   \n",
       "2            https://github.com/kube-green/kube-green   \n",
       "3            https://github.com/openeemeter/eeweather   \n",
       "4                     https://github.com/ecmwf/cfgrib   \n",
       "..                                                ...   \n",
       "662               https://github.com/Ouranosinc/raven   \n",
       "663  https://github.com/lanl-ansi/PowerModelsAnnex.jl   \n",
       "664            https://github.com/openfluid/openfluid   \n",
       "665      https://github.com/SNL-WaterPower/WecOptTool   \n",
       "666             https://github.com/seed-platform/seed   \n",
       "\n",
       "                      last_synced_at  \\\n",
       "0   2023-12-07 01:19:20.097000+00:00   \n",
       "1   2023-12-07 00:53:31.605000+00:00   \n",
       "2   2023-12-08 05:15:16.153000+00:00   \n",
       "3   2023-12-07 00:50:29.800000+00:00   \n",
       "4   2023-12-07 00:52:34.924000+00:00   \n",
       "..                               ...   \n",
       "662 2023-12-07 00:52:01.052000+00:00   \n",
       "663 2023-12-07 00:52:53.294000+00:00   \n",
       "664 2023-12-06 04:40:20.791000+00:00   \n",
       "665 2023-12-07 00:53:50.406000+00:00   \n",
       "666 2023-12-06 04:14:15.641000+00:00   \n",
       "\n",
       "                                            repository  \\\n",
       "0    {'uuid': '15884459', 'full_name': 'Unidata/net...   \n",
       "1    {'uuid': '30895522', 'full_name': 'pvlib/pvlib...   \n",
       "2    {'uuid': '340965344', 'full_name': 'kube-green...   \n",
       "3    {'uuid': '119442616', 'full_name': 'openeemete...   \n",
       "4    {'uuid': '141110423', 'full_name': 'ecmwf/cfgr...   \n",
       "..                                                 ...   \n",
       "662  {'uuid': '135511617', 'full_name': 'Ouranosinc...   \n",
       "663  {'uuid': '98562693', 'full_name': 'lanl-ansi/P...   \n",
       "664  {'uuid': '7731111', 'full_name': 'OpenFLUID/op...   \n",
       "665  {'uuid': '639068202', 'full_name': 'SNL-WaterP...   \n",
       "666  {'uuid': '25450714', 'full_name': 'SEED-platfo...   \n",
       "\n",
       "                                                 owner  \\\n",
       "0    {'login': 'Unidata', 'name': 'Unidata', 'uuid'...   \n",
       "1    {'login': 'pvlib', 'name': 'pvlib', 'uuid': '1...   \n",
       "2    {'login': 'kube-green', 'name': 'kube-green', ...   \n",
       "3    {'login': 'openeemeter', 'name': 'OpenEEmeter'...   \n",
       "4    {'login': 'ecmwf', 'name': 'European Centre fo...   \n",
       "..                                                 ...   \n",
       "662  {'login': 'Ouranosinc', 'name': 'Ouranos inc.'...   \n",
       "663  {'login': 'lanl-ansi', 'name': 'advanced netwo...   \n",
       "664  {'login': 'OpenFLUID', 'name': 'OpenFLUID', 'u...   \n",
       "665  {'login': 'SNL-WaterPower', 'name': 'Sandia Na...   \n",
       "666  {'login': 'SEED-platform', 'name': 'Standard E...   \n",
       "\n",
       "                                              packages  \\\n",
       "0    [{'name': 'netcdf4', 'ecosystem': 'pypi', 'des...   \n",
       "1    [{'name': 'pvlib', 'ecosystem': 'pypi', 'descr...   \n",
       "2    [{'name': 'kubegreen/kube-green', 'ecosystem':...   \n",
       "3    [{'name': 'eeweather', 'ecosystem': 'pypi', 'd...   \n",
       "4    [{'name': 'cfgrib', 'ecosystem': 'pypi', 'desc...   \n",
       "..                                                 ...   \n",
       "662  [{'name': 'github.com/ouranosinc/raven', 'ecos...   \n",
       "663  [{'name': 'PowerModelsAnnex', 'ecosystem': 'ju...   \n",
       "664  [{'name': 'github.com/OpenFLUID/openfluid', 'e...   \n",
       "665  [{'name': 'github.com/snl-waterpower/wecopttoo...   \n",
       "666  [{'name': 'github.com/seed-platform/seed', 'ec...   \n",
       "\n",
       "                                               commits  \\\n",
       "0    {'full_name': 'Unidata/netcdf4-python', 'defau...   \n",
       "1    {'full_name': 'pvlib/pvlib-python', 'default_b...   \n",
       "2    {'full_name': 'kube-green/kube-green', 'defaul...   \n",
       "3    {'full_name': 'openeemeter/eeweather', 'defaul...   \n",
       "4    {'full_name': 'ecmwf/cfgrib', 'default_branch'...   \n",
       "..                                                 ...   \n",
       "662  {'full_name': 'Ouranosinc/raven', 'default_bra...   \n",
       "663  {'full_name': 'lanl-ansi/PowerModelsAnnex.jl',...   \n",
       "664  {'full_name': 'OpenFLUID/openfluid', 'default_...   \n",
       "665  {'full_name': 'SNL-WaterPower/WecOptTool', 'de...   \n",
       "666  {'full_name': 'SEED-platform/seed', 'default_b...   \n",
       "\n",
       "                                          issues_stats  ...  \\\n",
       "0    {'full_name': 'Unidata/netcdf4-python', 'html_...  ...   \n",
       "1    {'full_name': 'pvlib/pvlib-python', 'html_url'...  ...   \n",
       "2    {'full_name': 'kube-green/kube-green', 'html_u...  ...   \n",
       "3    {'full_name': 'openeemeter/eeweather', 'html_u...  ...   \n",
       "4    {'full_name': 'ecmwf/cfgrib', 'html_url': 'htt...  ...   \n",
       "..                                                 ...  ...   \n",
       "662  {'full_name': 'Ouranosinc/raven', 'html_url': ...  ...   \n",
       "663  {'full_name': 'lanl-ansi/PowerModelsAnnex.jl',...  ...   \n",
       "664  {'full_name': 'OpenFLUID/openfluid', 'html_url...  ...   \n",
       "665  {'full_name': 'SNL-WaterPower/WecOptTool', 'ht...  ...   \n",
       "666  {'full_name': 'SEED-platform/seed', 'html_url'...  ...   \n",
       "\n",
       "                                          dependencies      score  \\\n",
       "0    [{'ecosystem': 'actions', 'filepath': '.github...  25.510734   \n",
       "1    [{'ecosystem': 'actions', 'filepath': '.github...  24.248670   \n",
       "2    [{'ecosystem': 'actions', 'filepath': '.github...  21.249127   \n",
       "3    [{'ecosystem': 'pypi', 'filepath': 'Pipfile', ...  18.043913   \n",
       "4    [{'ecosystem': 'pypi', 'filepath': 'ci/require...  20.712966   \n",
       "..                                                 ...        ...   \n",
       "662  [{'ecosystem': 'actions', 'filepath': '.github...        NaN   \n",
       "663  [{'ecosystem': 'actions', 'filepath': '.github...        NaN   \n",
       "664  [{'ecosystem': 'actions', 'filepath': '.github...        NaN   \n",
       "665                                                 []        NaN   \n",
       "666  [{'ecosystem': 'actions', 'filepath': '.github...        NaN   \n",
       "\n",
       "                          created_at                       updated_at  \\\n",
       "0   2023-09-11 14:52:14.006000+00:00 2023-12-07 01:19:20.100000+00:00   \n",
       "1   2023-09-11 14:52:06.879000+00:00 2023-12-07 00:53:31.610000+00:00   \n",
       "2   2023-09-11 14:52:10.530000+00:00 2023-12-08 05:15:16.167000+00:00   \n",
       "3   2023-09-11 11:54:35.868000+00:00 2023-12-07 00:50:29.813000+00:00   \n",
       "4   2023-09-11 11:54:36.281000+00:00 2023-12-07 00:52:34.927000+00:00   \n",
       "..                               ...                              ...   \n",
       "662 2023-09-11 11:54:35.653000+00:00 2023-12-07 00:52:01.055000+00:00   \n",
       "663 2023-09-11 14:52:08.854000+00:00 2023-12-07 00:52:53.296000+00:00   \n",
       "664 2023-09-18 13:14:07.206000+00:00 2023-12-06 04:40:20.793000+00:00   \n",
       "665 2023-09-11 14:52:07.489000+00:00 2023-12-07 00:53:50.408000+00:00   \n",
       "666 2023-09-18 13:14:03.773000+00:00 2023-12-08 00:03:43.471000+00:00   \n",
       "\n",
       "                                avatar_url language           category  \\\n",
       "0           https://github.com/Unidata.png   Cython     Climate Change   \n",
       "1             https://github.com/pvlib.png   Python   Renewable Energy   \n",
       "2        https://github.com/kube-green.png       Go        Consumption   \n",
       "3       https://github.com/openeemeter.png     HTML         Atmosphere   \n",
       "4             https://github.com/ecmwf.png   Python     Climate Change   \n",
       "..                                     ...      ...                ...   \n",
       "662      https://github.com/Ouranosinc.png   Python        Hydrosphere   \n",
       "663       https://github.com/lanl-ansi.png    Julia     Energy Systems   \n",
       "664       https://github.com/OpenFLUID.png      C++  Natural Resources   \n",
       "665  https://github.com/SNL-WaterPower.png     HTML   Renewable Energy   \n",
       "666   https://github.com/SEED-platform.png   Python        Consumption   \n",
       "\n",
       "                                sub_category  \\\n",
       "0                     Climate Data Standards   \n",
       "1             Photovoltaics and Solar Energy   \n",
       "2              Computation and Communication   \n",
       "3    Meteorological Observation and Forecast   \n",
       "4       Climate Data Processing and Analysis   \n",
       "..                                       ...   \n",
       "662                 Freshwater and Hydrology   \n",
       "663            Energy Distribution and Grids   \n",
       "664                            Soil and Land   \n",
       "665                             Hydro Energy   \n",
       "666                    Buildings and Heating   \n",
       "\n",
       "                                       project_url  \\\n",
       "0    https://ost.ecosyste.ms/api/v1/projects/20618   \n",
       "1    https://ost.ecosyste.ms/api/v1/projects/19753   \n",
       "2    https://ost.ecosyste.ms/api/v1/projects/20183   \n",
       "3      https://ost.ecosyste.ms/api/v1/projects/764   \n",
       "4      https://ost.ecosyste.ms/api/v1/projects/899   \n",
       "..                                             ...   \n",
       "662    https://ost.ecosyste.ms/api/v1/projects/685   \n",
       "663  https://ost.ecosyste.ms/api/v1/projects/19992   \n",
       "664  https://ost.ecosyste.ms/api/v1/projects/68314   \n",
       "665  https://ost.ecosyste.ms/api/v1/projects/19837   \n",
       "666  https://ost.ecosyste.ms/api/v1/projects/68244   \n",
       "\n",
       "                                   html_url  \n",
       "0    https://ost.ecosyste.ms/projects/20618  \n",
       "1    https://ost.ecosyste.ms/projects/19753  \n",
       "2    https://ost.ecosyste.ms/projects/20183  \n",
       "3      https://ost.ecosyste.ms/projects/764  \n",
       "4      https://ost.ecosyste.ms/projects/899  \n",
       "..                                      ...  \n",
       "662    https://ost.ecosyste.ms/projects/685  \n",
       "663  https://ost.ecosyste.ms/projects/19992  \n",
       "664  https://ost.ecosyste.ms/projects/68314  \n",
       "665  https://ost.ecosyste.ms/projects/19837  \n",
       "666  https://ost.ecosyste.ms/projects/68244  \n",
       "\n",
       "[667 rows x 22 columns]"
      ]
     },
     "execution_count": 1,
     "metadata": {},
     "output_type": "execute_result"
    }
   ],
   "source": [
    "import pandas as pd\n",
    "import json\n",
    "\n",
    "df = pd.read_json(\"./packages.json\")\n",
    "df"
   ]
  },
  {
   "cell_type": "code",
   "execution_count": 16,
   "id": "e6c85dc5",
   "metadata": {},
   "outputs": [],
   "source": [
    "names = []\n",
    "download_counts = []\n",
    "url = []\n",
    "\n",
    "for index, row in df.iterrows():\n",
    "    if row['name'] == \"netcdf-python\":\n",
    "        continue\n",
    "    names.append(row['name'])\n",
    "    download_counts.append(row['packages'][0]['downloads'])\n",
    "    url.append(row['name'])"
   ]
  },
  {
   "cell_type": "code",
   "execution_count": 17,
   "id": "e07725b3",
   "metadata": {},
   "outputs": [],
   "source": [
    "df_extract = pd.DataFrame()\n",
    "df_extract['names'] = names\n",
    "df_extract['download_counts'] = download_counts\n",
    "df_extract['url'] = url"
   ]
  },
  {
   "cell_type": "code",
   "execution_count": 20,
   "id": "0cdb8937",
   "metadata": {
    "scrolled": false
   },
   "outputs": [
    {
     "data": {
      "application/vnd.plotly.v1+json": {
       "config": {
        "plotlyServerURL": "https://plot.ly"
       },
       "data": [
        {
         "alignmentgroup": "True",
         "hovertemplate": "download_counts=%{x}<br>names=%{y}<extra></extra>",
         "legendgroup": "",
         "marker": {
          "color": "#636efa",
          "pattern": {
           "shape": ""
          }
         },
         "name": "",
         "offsetgroup": "",
         "orientation": "h",
         "showlegend": false,
         "textposition": "auto",
         "type": "bar",
         "x": [
          247853,
          233663,
          116274,
          97874,
          83024,
          48101,
          45654,
          44058,
          35844,
          34211,
          26682,
          24785,
          17674,
          17188,
          14889,
          13761,
          10723,
          9799,
          9333,
          8222,
          8094,
          7511,
          7174,
          6611,
          6520,
          6268,
          6127,
          5935,
          5713,
          5458,
          4753,
          4505,
          4331,
          4321,
          4172,
          3972,
          3737,
          3569,
          3342,
          3337,
          3319,
          3270,
          3258,
          3206,
          3128,
          2973,
          2920,
          2703,
          2588,
          2487,
          2411,
          2321,
          2304,
          2163,
          2115,
          2028,
          2027,
          2016,
          2013,
          2004,
          1980,
          1941,
          1932,
          1932,
          1886,
          1792,
          1791,
          1780,
          1770,
          1677,
          1654,
          1643,
          1612,
          1590,
          1542,
          1514,
          1494,
          1485,
          1435,
          1408,
          1405,
          1404,
          1374,
          1362,
          1339,
          1322,
          1318,
          1233,
          1204,
          1171,
          1156,
          1151,
          1135,
          1039,
          998,
          974,
          948,
          936,
          911,
          911
         ],
         "xaxis": "x",
         "y": [
          "pvlib-python",
          "kube-green",
          "eeweather",
          "cfgrib",
          "ocpp",
          "cdsapi",
          "Meteostat Python",
          "leaflet-velocity",
          "co2.js",
          "Intake-esm",
          "MetPy",
          "sentinelhub-py",
          "sentinelsat",
          "scikit-maad",
          "eemeter",
          "Fisheries Stock Assessment",
          "icclim",
          "PyBaMM",
          "USGS",
          "windrose",
          "Urban Weather Generator",
          "satpy",
          "xskillscore",
          "pythermalcomfort",
          "Cloud Carbon Footprint",
          "openair",
          "Egret",
          "FAIR",
          "thermo",
          "OasisLMF",
          "wetterdienst",
          "env_canada",
          "Ribasim",
          "gridstatus",
          "metR",
          "eeExtra",
          "lidR",
          "oce",
          "ecmwf-opendata",
          "Gym-ANM",
          "Water Network Tool for Resilience",
          "ElexonDataPortal",
          "climetlab",
          "eurostat R package",
          "solax",
          "Agridat",
          "openEO",
          "giscoR",
          "Wallace",
          "AQP",
          "PySDM",
          "windpowerlib",
          "DeepForest",
          "wrf-python",
          "tesla_powerwall",
          "PyWake",
          "MaaS Global",
          "solcore5",
          "OpenGeoSys 6",
          "noaa_coops",
          "pymrio",
          "Grid2Op",
          "brightway2",
          "ENMeval",
          "SPEI",
          "earthaccess",
          "pvfactors",
          "node-gtfs",
          "clisops",
          "solaR",
          "Easy SimAuto",
          "Iris",
          "CityLearn",
          "rdtools",
          "tsam",
          "bslib",
          "FSAdata",
          "ACT",
          "soilDB",
          "pyinaturalist",
          "spatialEco",
          "pycontrails",
          "tespy",
          "Digital Earth Africa Notebooks",
          "OpenStudio",
          "pynco",
          "NEON",
          "ecmwfr",
          "pySTEPS",
          "pvanalytics",
          "stplanr",
          "Scaphandre",
          "Metview Python bindings",
          "PVMismatch",
          "GridCal",
          "rfishbase",
          "landsatxplore",
          "CO2MPAS-TA",
          "MODIStsp",
          "beep"
         ],
         "yaxis": "y"
        }
       ],
       "layout": {
        "barmode": "relative",
        "coloraxis": {
         "colorbar": {
          "orientation": "h",
          "title": {
           "text": "<a href=\"https://report.opensustain.tech/chapters/development-distribution-score.html\" style = \"color: black >DDS</a>"
          },
          "x": 0.4,
          "y": -0.15
         }
        },
        "dragmode": false,
        "height": 2000,
        "hoverlabel": {
         "bgcolor": "white"
        },
        "legend": {
         "tracegroupgap": 0
        },
        "margin": {
         "t": 60
        },
        "showlegend": false,
        "template": {
         "data": {
          "bar": [
           {
            "error_x": {
             "color": "#2a3f5f"
            },
            "error_y": {
             "color": "#2a3f5f"
            },
            "marker": {
             "line": {
              "color": "#E5ECF6",
              "width": 0.5
             },
             "pattern": {
              "fillmode": "overlay",
              "size": 10,
              "solidity": 0.2
             }
            },
            "type": "bar"
           }
          ],
          "barpolar": [
           {
            "marker": {
             "line": {
              "color": "#E5ECF6",
              "width": 0.5
             },
             "pattern": {
              "fillmode": "overlay",
              "size": 10,
              "solidity": 0.2
             }
            },
            "type": "barpolar"
           }
          ],
          "carpet": [
           {
            "aaxis": {
             "endlinecolor": "#2a3f5f",
             "gridcolor": "white",
             "linecolor": "white",
             "minorgridcolor": "white",
             "startlinecolor": "#2a3f5f"
            },
            "baxis": {
             "endlinecolor": "#2a3f5f",
             "gridcolor": "white",
             "linecolor": "white",
             "minorgridcolor": "white",
             "startlinecolor": "#2a3f5f"
            },
            "type": "carpet"
           }
          ],
          "choropleth": [
           {
            "colorbar": {
             "outlinewidth": 0,
             "ticks": ""
            },
            "type": "choropleth"
           }
          ],
          "contour": [
           {
            "colorbar": {
             "outlinewidth": 0,
             "ticks": ""
            },
            "colorscale": [
             [
              0,
              "#0d0887"
             ],
             [
              0.1111111111111111,
              "#46039f"
             ],
             [
              0.2222222222222222,
              "#7201a8"
             ],
             [
              0.3333333333333333,
              "#9c179e"
             ],
             [
              0.4444444444444444,
              "#bd3786"
             ],
             [
              0.5555555555555556,
              "#d8576b"
             ],
             [
              0.6666666666666666,
              "#ed7953"
             ],
             [
              0.7777777777777778,
              "#fb9f3a"
             ],
             [
              0.8888888888888888,
              "#fdca26"
             ],
             [
              1,
              "#f0f921"
             ]
            ],
            "type": "contour"
           }
          ],
          "contourcarpet": [
           {
            "colorbar": {
             "outlinewidth": 0,
             "ticks": ""
            },
            "type": "contourcarpet"
           }
          ],
          "heatmap": [
           {
            "colorbar": {
             "outlinewidth": 0,
             "ticks": ""
            },
            "colorscale": [
             [
              0,
              "#0d0887"
             ],
             [
              0.1111111111111111,
              "#46039f"
             ],
             [
              0.2222222222222222,
              "#7201a8"
             ],
             [
              0.3333333333333333,
              "#9c179e"
             ],
             [
              0.4444444444444444,
              "#bd3786"
             ],
             [
              0.5555555555555556,
              "#d8576b"
             ],
             [
              0.6666666666666666,
              "#ed7953"
             ],
             [
              0.7777777777777778,
              "#fb9f3a"
             ],
             [
              0.8888888888888888,
              "#fdca26"
             ],
             [
              1,
              "#f0f921"
             ]
            ],
            "type": "heatmap"
           }
          ],
          "heatmapgl": [
           {
            "colorbar": {
             "outlinewidth": 0,
             "ticks": ""
            },
            "colorscale": [
             [
              0,
              "#0d0887"
             ],
             [
              0.1111111111111111,
              "#46039f"
             ],
             [
              0.2222222222222222,
              "#7201a8"
             ],
             [
              0.3333333333333333,
              "#9c179e"
             ],
             [
              0.4444444444444444,
              "#bd3786"
             ],
             [
              0.5555555555555556,
              "#d8576b"
             ],
             [
              0.6666666666666666,
              "#ed7953"
             ],
             [
              0.7777777777777778,
              "#fb9f3a"
             ],
             [
              0.8888888888888888,
              "#fdca26"
             ],
             [
              1,
              "#f0f921"
             ]
            ],
            "type": "heatmapgl"
           }
          ],
          "histogram": [
           {
            "marker": {
             "pattern": {
              "fillmode": "overlay",
              "size": 10,
              "solidity": 0.2
             }
            },
            "type": "histogram"
           }
          ],
          "histogram2d": [
           {
            "colorbar": {
             "outlinewidth": 0,
             "ticks": ""
            },
            "colorscale": [
             [
              0,
              "#0d0887"
             ],
             [
              0.1111111111111111,
              "#46039f"
             ],
             [
              0.2222222222222222,
              "#7201a8"
             ],
             [
              0.3333333333333333,
              "#9c179e"
             ],
             [
              0.4444444444444444,
              "#bd3786"
             ],
             [
              0.5555555555555556,
              "#d8576b"
             ],
             [
              0.6666666666666666,
              "#ed7953"
             ],
             [
              0.7777777777777778,
              "#fb9f3a"
             ],
             [
              0.8888888888888888,
              "#fdca26"
             ],
             [
              1,
              "#f0f921"
             ]
            ],
            "type": "histogram2d"
           }
          ],
          "histogram2dcontour": [
           {
            "colorbar": {
             "outlinewidth": 0,
             "ticks": ""
            },
            "colorscale": [
             [
              0,
              "#0d0887"
             ],
             [
              0.1111111111111111,
              "#46039f"
             ],
             [
              0.2222222222222222,
              "#7201a8"
             ],
             [
              0.3333333333333333,
              "#9c179e"
             ],
             [
              0.4444444444444444,
              "#bd3786"
             ],
             [
              0.5555555555555556,
              "#d8576b"
             ],
             [
              0.6666666666666666,
              "#ed7953"
             ],
             [
              0.7777777777777778,
              "#fb9f3a"
             ],
             [
              0.8888888888888888,
              "#fdca26"
             ],
             [
              1,
              "#f0f921"
             ]
            ],
            "type": "histogram2dcontour"
           }
          ],
          "mesh3d": [
           {
            "colorbar": {
             "outlinewidth": 0,
             "ticks": ""
            },
            "type": "mesh3d"
           }
          ],
          "parcoords": [
           {
            "line": {
             "colorbar": {
              "outlinewidth": 0,
              "ticks": ""
             }
            },
            "type": "parcoords"
           }
          ],
          "pie": [
           {
            "automargin": true,
            "type": "pie"
           }
          ],
          "scatter": [
           {
            "fillpattern": {
             "fillmode": "overlay",
             "size": 10,
             "solidity": 0.2
            },
            "type": "scatter"
           }
          ],
          "scatter3d": [
           {
            "line": {
             "colorbar": {
              "outlinewidth": 0,
              "ticks": ""
             }
            },
            "marker": {
             "colorbar": {
              "outlinewidth": 0,
              "ticks": ""
             }
            },
            "type": "scatter3d"
           }
          ],
          "scattercarpet": [
           {
            "marker": {
             "colorbar": {
              "outlinewidth": 0,
              "ticks": ""
             }
            },
            "type": "scattercarpet"
           }
          ],
          "scattergeo": [
           {
            "marker": {
             "colorbar": {
              "outlinewidth": 0,
              "ticks": ""
             }
            },
            "type": "scattergeo"
           }
          ],
          "scattergl": [
           {
            "marker": {
             "colorbar": {
              "outlinewidth": 0,
              "ticks": ""
             }
            },
            "type": "scattergl"
           }
          ],
          "scattermapbox": [
           {
            "marker": {
             "colorbar": {
              "outlinewidth": 0,
              "ticks": ""
             }
            },
            "type": "scattermapbox"
           }
          ],
          "scatterpolar": [
           {
            "marker": {
             "colorbar": {
              "outlinewidth": 0,
              "ticks": ""
             }
            },
            "type": "scatterpolar"
           }
          ],
          "scatterpolargl": [
           {
            "marker": {
             "colorbar": {
              "outlinewidth": 0,
              "ticks": ""
             }
            },
            "type": "scatterpolargl"
           }
          ],
          "scatterternary": [
           {
            "marker": {
             "colorbar": {
              "outlinewidth": 0,
              "ticks": ""
             }
            },
            "type": "scatterternary"
           }
          ],
          "surface": [
           {
            "colorbar": {
             "outlinewidth": 0,
             "ticks": ""
            },
            "colorscale": [
             [
              0,
              "#0d0887"
             ],
             [
              0.1111111111111111,
              "#46039f"
             ],
             [
              0.2222222222222222,
              "#7201a8"
             ],
             [
              0.3333333333333333,
              "#9c179e"
             ],
             [
              0.4444444444444444,
              "#bd3786"
             ],
             [
              0.5555555555555556,
              "#d8576b"
             ],
             [
              0.6666666666666666,
              "#ed7953"
             ],
             [
              0.7777777777777778,
              "#fb9f3a"
             ],
             [
              0.8888888888888888,
              "#fdca26"
             ],
             [
              1,
              "#f0f921"
             ]
            ],
            "type": "surface"
           }
          ],
          "table": [
           {
            "cells": {
             "fill": {
              "color": "#EBF0F8"
             },
             "line": {
              "color": "white"
             }
            },
            "header": {
             "fill": {
              "color": "#C8D4E3"
             },
             "line": {
              "color": "white"
             }
            },
            "type": "table"
           }
          ]
         },
         "layout": {
          "annotationdefaults": {
           "arrowcolor": "#2a3f5f",
           "arrowhead": 0,
           "arrowwidth": 1
          },
          "autotypenumbers": "strict",
          "coloraxis": {
           "colorbar": {
            "outlinewidth": 0,
            "ticks": ""
           }
          },
          "colorscale": {
           "diverging": [
            [
             0,
             "#8e0152"
            ],
            [
             0.1,
             "#c51b7d"
            ],
            [
             0.2,
             "#de77ae"
            ],
            [
             0.3,
             "#f1b6da"
            ],
            [
             0.4,
             "#fde0ef"
            ],
            [
             0.5,
             "#f7f7f7"
            ],
            [
             0.6,
             "#e6f5d0"
            ],
            [
             0.7,
             "#b8e186"
            ],
            [
             0.8,
             "#7fbc41"
            ],
            [
             0.9,
             "#4d9221"
            ],
            [
             1,
             "#276419"
            ]
           ],
           "sequential": [
            [
             0,
             "#0d0887"
            ],
            [
             0.1111111111111111,
             "#46039f"
            ],
            [
             0.2222222222222222,
             "#7201a8"
            ],
            [
             0.3333333333333333,
             "#9c179e"
            ],
            [
             0.4444444444444444,
             "#bd3786"
            ],
            [
             0.5555555555555556,
             "#d8576b"
            ],
            [
             0.6666666666666666,
             "#ed7953"
            ],
            [
             0.7777777777777778,
             "#fb9f3a"
            ],
            [
             0.8888888888888888,
             "#fdca26"
            ],
            [
             1,
             "#f0f921"
            ]
           ],
           "sequentialminus": [
            [
             0,
             "#0d0887"
            ],
            [
             0.1111111111111111,
             "#46039f"
            ],
            [
             0.2222222222222222,
             "#7201a8"
            ],
            [
             0.3333333333333333,
             "#9c179e"
            ],
            [
             0.4444444444444444,
             "#bd3786"
            ],
            [
             0.5555555555555556,
             "#d8576b"
            ],
            [
             0.6666666666666666,
             "#ed7953"
            ],
            [
             0.7777777777777778,
             "#fb9f3a"
            ],
            [
             0.8888888888888888,
             "#fdca26"
            ],
            [
             1,
             "#f0f921"
            ]
           ]
          },
          "colorway": [
           "#636efa",
           "#EF553B",
           "#00cc96",
           "#ab63fa",
           "#FFA15A",
           "#19d3f3",
           "#FF6692",
           "#B6E880",
           "#FF97FF",
           "#FECB52"
          ],
          "font": {
           "color": "#2a3f5f"
          },
          "geo": {
           "bgcolor": "white",
           "lakecolor": "white",
           "landcolor": "#E5ECF6",
           "showlakes": true,
           "showland": true,
           "subunitcolor": "white"
          },
          "hoverlabel": {
           "align": "left"
          },
          "hovermode": "closest",
          "mapbox": {
           "style": "light"
          },
          "paper_bgcolor": "white",
          "plot_bgcolor": "#E5ECF6",
          "polar": {
           "angularaxis": {
            "gridcolor": "white",
            "linecolor": "white",
            "ticks": ""
           },
           "bgcolor": "#E5ECF6",
           "radialaxis": {
            "gridcolor": "white",
            "linecolor": "white",
            "ticks": ""
           }
          },
          "scene": {
           "xaxis": {
            "backgroundcolor": "#E5ECF6",
            "gridcolor": "white",
            "gridwidth": 2,
            "linecolor": "white",
            "showbackground": true,
            "ticks": "",
            "zerolinecolor": "white"
           },
           "yaxis": {
            "backgroundcolor": "#E5ECF6",
            "gridcolor": "white",
            "gridwidth": 2,
            "linecolor": "white",
            "showbackground": true,
            "ticks": "",
            "zerolinecolor": "white"
           },
           "zaxis": {
            "backgroundcolor": "#E5ECF6",
            "gridcolor": "white",
            "gridwidth": 2,
            "linecolor": "white",
            "showbackground": true,
            "ticks": "",
            "zerolinecolor": "white"
           }
          },
          "shapedefaults": {
           "line": {
            "color": "#2a3f5f"
           }
          },
          "ternary": {
           "aaxis": {
            "gridcolor": "white",
            "linecolor": "white",
            "ticks": ""
           },
           "baxis": {
            "gridcolor": "white",
            "linecolor": "white",
            "ticks": ""
           },
           "bgcolor": "#E5ECF6",
           "caxis": {
            "gridcolor": "white",
            "linecolor": "white",
            "ticks": ""
           }
          },
          "title": {
           "x": 0.05
          },
          "xaxis": {
           "automargin": true,
           "gridcolor": "white",
           "linecolor": "white",
           "ticks": "",
           "title": {
            "standoff": 15
           },
           "zerolinecolor": "white",
           "zerolinewidth": 2
          },
          "yaxis": {
           "automargin": true,
           "gridcolor": "white",
           "linecolor": "white",
           "ticks": "",
           "title": {
            "standoff": 15
           },
           "zerolinecolor": "white",
           "zerolinewidth": 2
          }
         }
        },
        "title": {
         "text": "Projects with the most downloads"
        },
        "xaxis": {
         "anchor": "y",
         "domain": [
          0,
          1
         ],
         "title": {
          "text": "Stars"
         }
        },
        "yaxis": {
         "anchor": "x",
         "autorange": "reversed",
         "domain": [
          0,
          1
         ],
         "title": {}
        }
       }
      },
      "text/html": [
       "<div>                            <div id=\"3492ff28-2d75-4e9c-81b0-81f9d1b91736\" class=\"plotly-graph-div\" style=\"height:2000px; width:100%;\"></div>            <script type=\"text/javascript\">                require([\"plotly\"], function(Plotly) {                    window.PLOTLYENV=window.PLOTLYENV || {};                                    if (document.getElementById(\"3492ff28-2d75-4e9c-81b0-81f9d1b91736\")) {                    Plotly.newPlot(                        \"3492ff28-2d75-4e9c-81b0-81f9d1b91736\",                        [{\"alignmentgroup\":\"True\",\"hovertemplate\":\"download_counts=%{x}<br>names=%{y}<extra></extra>\",\"legendgroup\":\"\",\"marker\":{\"color\":\"#636efa\",\"pattern\":{\"shape\":\"\"}},\"name\":\"\",\"offsetgroup\":\"\",\"orientation\":\"h\",\"showlegend\":false,\"textposition\":\"auto\",\"x\":[247853.0,233663.0,116274.0,97874.0,83024.0,48101.0,45654.0,44058.0,35844.0,34211.0,26682.0,24785.0,17674.0,17188.0,14889.0,13761.0,10723.0,9799.0,9333.0,8222.0,8094.0,7511.0,7174.0,6611.0,6520.0,6268.0,6127.0,5935.0,5713.0,5458.0,4753.0,4505.0,4331.0,4321.0,4172.0,3972.0,3737.0,3569.0,3342.0,3337.0,3319.0,3270.0,3258.0,3206.0,3128.0,2973.0,2920.0,2703.0,2588.0,2487.0,2411.0,2321.0,2304.0,2163.0,2115.0,2028.0,2027.0,2016.0,2013.0,2004.0,1980.0,1941.0,1932.0,1932.0,1886.0,1792.0,1791.0,1780.0,1770.0,1677.0,1654.0,1643.0,1612.0,1590.0,1542.0,1514.0,1494.0,1485.0,1435.0,1408.0,1405.0,1404.0,1374.0,1362.0,1339.0,1322.0,1318.0,1233.0,1204.0,1171.0,1156.0,1151.0,1135.0,1039.0,998.0,974.0,948.0,936.0,911.0,911.0],\"xaxis\":\"x\",\"y\":[\"pvlib-python\",\"kube-green\",\"eeweather\",\"cfgrib\",\"ocpp\",\"cdsapi\",\"Meteostat Python\",\"leaflet-velocity\",\"co2.js\",\"Intake-esm\",\"MetPy\",\"sentinelhub-py\",\"sentinelsat\",\"scikit-maad\",\"eemeter\",\"Fisheries Stock Assessment\",\"icclim\",\"PyBaMM\",\"USGS\",\"windrose\",\"Urban Weather Generator\",\"satpy\",\"xskillscore\",\"pythermalcomfort\",\"Cloud Carbon Footprint\",\"openair\",\"Egret\",\"FAIR\",\"thermo\",\"OasisLMF\",\"wetterdienst\",\"env_canada\",\"Ribasim\",\"gridstatus\",\"metR\",\"eeExtra\",\"lidR\",\"oce\",\"ecmwf-opendata\",\"Gym-ANM\",\"Water Network Tool for Resilience\",\"ElexonDataPortal\",\"climetlab\",\"eurostat R package\",\"solax\",\"Agridat\",\"openEO\",\"giscoR\",\"Wallace\",\"AQP\",\"PySDM\",\"windpowerlib\",\"DeepForest\",\"wrf-python\",\"tesla_powerwall\",\"PyWake\",\"MaaS Global\",\"solcore5\",\"OpenGeoSys 6\",\"noaa_coops\",\"pymrio\",\"Grid2Op\",\"brightway2\",\"ENMeval\",\"SPEI\",\"earthaccess\",\"pvfactors\",\"node-gtfs\",\"clisops\",\"solaR\",\"Easy SimAuto\",\"Iris\",\"CityLearn\",\"rdtools\",\"tsam\",\"bslib\",\"FSAdata\",\"ACT\",\"soilDB\",\"pyinaturalist\",\"spatialEco\",\"pycontrails\",\"tespy\",\"Digital Earth Africa Notebooks\",\"OpenStudio\",\"pynco\",\"NEON\",\"ecmwfr\",\"pySTEPS\",\"pvanalytics\",\"stplanr\",\"Scaphandre\",\"Metview Python bindings\",\"PVMismatch\",\"GridCal\",\"rfishbase\",\"landsatxplore\",\"CO2MPAS-TA\",\"MODIStsp\",\"beep\"],\"yaxis\":\"y\",\"type\":\"bar\"}],                        {\"template\":{\"data\":{\"histogram2dcontour\":[{\"type\":\"histogram2dcontour\",\"colorbar\":{\"outlinewidth\":0,\"ticks\":\"\"},\"colorscale\":[[0.0,\"#0d0887\"],[0.1111111111111111,\"#46039f\"],[0.2222222222222222,\"#7201a8\"],[0.3333333333333333,\"#9c179e\"],[0.4444444444444444,\"#bd3786\"],[0.5555555555555556,\"#d8576b\"],[0.6666666666666666,\"#ed7953\"],[0.7777777777777778,\"#fb9f3a\"],[0.8888888888888888,\"#fdca26\"],[1.0,\"#f0f921\"]]}],\"choropleth\":[{\"type\":\"choropleth\",\"colorbar\":{\"outlinewidth\":0,\"ticks\":\"\"}}],\"histogram2d\":[{\"type\":\"histogram2d\",\"colorbar\":{\"outlinewidth\":0,\"ticks\":\"\"},\"colorscale\":[[0.0,\"#0d0887\"],[0.1111111111111111,\"#46039f\"],[0.2222222222222222,\"#7201a8\"],[0.3333333333333333,\"#9c179e\"],[0.4444444444444444,\"#bd3786\"],[0.5555555555555556,\"#d8576b\"],[0.6666666666666666,\"#ed7953\"],[0.7777777777777778,\"#fb9f3a\"],[0.8888888888888888,\"#fdca26\"],[1.0,\"#f0f921\"]]}],\"heatmap\":[{\"type\":\"heatmap\",\"colorbar\":{\"outlinewidth\":0,\"ticks\":\"\"},\"colorscale\":[[0.0,\"#0d0887\"],[0.1111111111111111,\"#46039f\"],[0.2222222222222222,\"#7201a8\"],[0.3333333333333333,\"#9c179e\"],[0.4444444444444444,\"#bd3786\"],[0.5555555555555556,\"#d8576b\"],[0.6666666666666666,\"#ed7953\"],[0.7777777777777778,\"#fb9f3a\"],[0.8888888888888888,\"#fdca26\"],[1.0,\"#f0f921\"]]}],\"heatmapgl\":[{\"type\":\"heatmapgl\",\"colorbar\":{\"outlinewidth\":0,\"ticks\":\"\"},\"colorscale\":[[0.0,\"#0d0887\"],[0.1111111111111111,\"#46039f\"],[0.2222222222222222,\"#7201a8\"],[0.3333333333333333,\"#9c179e\"],[0.4444444444444444,\"#bd3786\"],[0.5555555555555556,\"#d8576b\"],[0.6666666666666666,\"#ed7953\"],[0.7777777777777778,\"#fb9f3a\"],[0.8888888888888888,\"#fdca26\"],[1.0,\"#f0f921\"]]}],\"contourcarpet\":[{\"type\":\"contourcarpet\",\"colorbar\":{\"outlinewidth\":0,\"ticks\":\"\"}}],\"contour\":[{\"type\":\"contour\",\"colorbar\":{\"outlinewidth\":0,\"ticks\":\"\"},\"colorscale\":[[0.0,\"#0d0887\"],[0.1111111111111111,\"#46039f\"],[0.2222222222222222,\"#7201a8\"],[0.3333333333333333,\"#9c179e\"],[0.4444444444444444,\"#bd3786\"],[0.5555555555555556,\"#d8576b\"],[0.6666666666666666,\"#ed7953\"],[0.7777777777777778,\"#fb9f3a\"],[0.8888888888888888,\"#fdca26\"],[1.0,\"#f0f921\"]]}],\"surface\":[{\"type\":\"surface\",\"colorbar\":{\"outlinewidth\":0,\"ticks\":\"\"},\"colorscale\":[[0.0,\"#0d0887\"],[0.1111111111111111,\"#46039f\"],[0.2222222222222222,\"#7201a8\"],[0.3333333333333333,\"#9c179e\"],[0.4444444444444444,\"#bd3786\"],[0.5555555555555556,\"#d8576b\"],[0.6666666666666666,\"#ed7953\"],[0.7777777777777778,\"#fb9f3a\"],[0.8888888888888888,\"#fdca26\"],[1.0,\"#f0f921\"]]}],\"mesh3d\":[{\"type\":\"mesh3d\",\"colorbar\":{\"outlinewidth\":0,\"ticks\":\"\"}}],\"scatter\":[{\"fillpattern\":{\"fillmode\":\"overlay\",\"size\":10,\"solidity\":0.2},\"type\":\"scatter\"}],\"parcoords\":[{\"type\":\"parcoords\",\"line\":{\"colorbar\":{\"outlinewidth\":0,\"ticks\":\"\"}}}],\"scatterpolargl\":[{\"type\":\"scatterpolargl\",\"marker\":{\"colorbar\":{\"outlinewidth\":0,\"ticks\":\"\"}}}],\"bar\":[{\"error_x\":{\"color\":\"#2a3f5f\"},\"error_y\":{\"color\":\"#2a3f5f\"},\"marker\":{\"line\":{\"color\":\"#E5ECF6\",\"width\":0.5},\"pattern\":{\"fillmode\":\"overlay\",\"size\":10,\"solidity\":0.2}},\"type\":\"bar\"}],\"scattergeo\":[{\"type\":\"scattergeo\",\"marker\":{\"colorbar\":{\"outlinewidth\":0,\"ticks\":\"\"}}}],\"scatterpolar\":[{\"type\":\"scatterpolar\",\"marker\":{\"colorbar\":{\"outlinewidth\":0,\"ticks\":\"\"}}}],\"histogram\":[{\"marker\":{\"pattern\":{\"fillmode\":\"overlay\",\"size\":10,\"solidity\":0.2}},\"type\":\"histogram\"}],\"scattergl\":[{\"type\":\"scattergl\",\"marker\":{\"colorbar\":{\"outlinewidth\":0,\"ticks\":\"\"}}}],\"scatter3d\":[{\"type\":\"scatter3d\",\"line\":{\"colorbar\":{\"outlinewidth\":0,\"ticks\":\"\"}},\"marker\":{\"colorbar\":{\"outlinewidth\":0,\"ticks\":\"\"}}}],\"scattermapbox\":[{\"type\":\"scattermapbox\",\"marker\":{\"colorbar\":{\"outlinewidth\":0,\"ticks\":\"\"}}}],\"scatterternary\":[{\"type\":\"scatterternary\",\"marker\":{\"colorbar\":{\"outlinewidth\":0,\"ticks\":\"\"}}}],\"scattercarpet\":[{\"type\":\"scattercarpet\",\"marker\":{\"colorbar\":{\"outlinewidth\":0,\"ticks\":\"\"}}}],\"carpet\":[{\"aaxis\":{\"endlinecolor\":\"#2a3f5f\",\"gridcolor\":\"white\",\"linecolor\":\"white\",\"minorgridcolor\":\"white\",\"startlinecolor\":\"#2a3f5f\"},\"baxis\":{\"endlinecolor\":\"#2a3f5f\",\"gridcolor\":\"white\",\"linecolor\":\"white\",\"minorgridcolor\":\"white\",\"startlinecolor\":\"#2a3f5f\"},\"type\":\"carpet\"}],\"table\":[{\"cells\":{\"fill\":{\"color\":\"#EBF0F8\"},\"line\":{\"color\":\"white\"}},\"header\":{\"fill\":{\"color\":\"#C8D4E3\"},\"line\":{\"color\":\"white\"}},\"type\":\"table\"}],\"barpolar\":[{\"marker\":{\"line\":{\"color\":\"#E5ECF6\",\"width\":0.5},\"pattern\":{\"fillmode\":\"overlay\",\"size\":10,\"solidity\":0.2}},\"type\":\"barpolar\"}],\"pie\":[{\"automargin\":true,\"type\":\"pie\"}]},\"layout\":{\"autotypenumbers\":\"strict\",\"colorway\":[\"#636efa\",\"#EF553B\",\"#00cc96\",\"#ab63fa\",\"#FFA15A\",\"#19d3f3\",\"#FF6692\",\"#B6E880\",\"#FF97FF\",\"#FECB52\"],\"font\":{\"color\":\"#2a3f5f\"},\"hovermode\":\"closest\",\"hoverlabel\":{\"align\":\"left\"},\"paper_bgcolor\":\"white\",\"plot_bgcolor\":\"#E5ECF6\",\"polar\":{\"bgcolor\":\"#E5ECF6\",\"angularaxis\":{\"gridcolor\":\"white\",\"linecolor\":\"white\",\"ticks\":\"\"},\"radialaxis\":{\"gridcolor\":\"white\",\"linecolor\":\"white\",\"ticks\":\"\"}},\"ternary\":{\"bgcolor\":\"#E5ECF6\",\"aaxis\":{\"gridcolor\":\"white\",\"linecolor\":\"white\",\"ticks\":\"\"},\"baxis\":{\"gridcolor\":\"white\",\"linecolor\":\"white\",\"ticks\":\"\"},\"caxis\":{\"gridcolor\":\"white\",\"linecolor\":\"white\",\"ticks\":\"\"}},\"coloraxis\":{\"colorbar\":{\"outlinewidth\":0,\"ticks\":\"\"}},\"colorscale\":{\"sequential\":[[0.0,\"#0d0887\"],[0.1111111111111111,\"#46039f\"],[0.2222222222222222,\"#7201a8\"],[0.3333333333333333,\"#9c179e\"],[0.4444444444444444,\"#bd3786\"],[0.5555555555555556,\"#d8576b\"],[0.6666666666666666,\"#ed7953\"],[0.7777777777777778,\"#fb9f3a\"],[0.8888888888888888,\"#fdca26\"],[1.0,\"#f0f921\"]],\"sequentialminus\":[[0.0,\"#0d0887\"],[0.1111111111111111,\"#46039f\"],[0.2222222222222222,\"#7201a8\"],[0.3333333333333333,\"#9c179e\"],[0.4444444444444444,\"#bd3786\"],[0.5555555555555556,\"#d8576b\"],[0.6666666666666666,\"#ed7953\"],[0.7777777777777778,\"#fb9f3a\"],[0.8888888888888888,\"#fdca26\"],[1.0,\"#f0f921\"]],\"diverging\":[[0,\"#8e0152\"],[0.1,\"#c51b7d\"],[0.2,\"#de77ae\"],[0.3,\"#f1b6da\"],[0.4,\"#fde0ef\"],[0.5,\"#f7f7f7\"],[0.6,\"#e6f5d0\"],[0.7,\"#b8e186\"],[0.8,\"#7fbc41\"],[0.9,\"#4d9221\"],[1,\"#276419\"]]},\"xaxis\":{\"gridcolor\":\"white\",\"linecolor\":\"white\",\"ticks\":\"\",\"title\":{\"standoff\":15},\"zerolinecolor\":\"white\",\"automargin\":true,\"zerolinewidth\":2},\"yaxis\":{\"gridcolor\":\"white\",\"linecolor\":\"white\",\"ticks\":\"\",\"title\":{\"standoff\":15},\"zerolinecolor\":\"white\",\"automargin\":true,\"zerolinewidth\":2},\"scene\":{\"xaxis\":{\"backgroundcolor\":\"#E5ECF6\",\"gridcolor\":\"white\",\"linecolor\":\"white\",\"showbackground\":true,\"ticks\":\"\",\"zerolinecolor\":\"white\",\"gridwidth\":2},\"yaxis\":{\"backgroundcolor\":\"#E5ECF6\",\"gridcolor\":\"white\",\"linecolor\":\"white\",\"showbackground\":true,\"ticks\":\"\",\"zerolinecolor\":\"white\",\"gridwidth\":2},\"zaxis\":{\"backgroundcolor\":\"#E5ECF6\",\"gridcolor\":\"white\",\"linecolor\":\"white\",\"showbackground\":true,\"ticks\":\"\",\"zerolinecolor\":\"white\",\"gridwidth\":2}},\"shapedefaults\":{\"line\":{\"color\":\"#2a3f5f\"}},\"annotationdefaults\":{\"arrowcolor\":\"#2a3f5f\",\"arrowhead\":0,\"arrowwidth\":1},\"geo\":{\"bgcolor\":\"white\",\"landcolor\":\"#E5ECF6\",\"subunitcolor\":\"white\",\"showland\":true,\"showlakes\":true,\"lakecolor\":\"white\"},\"title\":{\"x\":0.05},\"mapbox\":{\"style\":\"light\"}}},\"xaxis\":{\"anchor\":\"y\",\"domain\":[0.0,1.0],\"title\":{\"text\":\"Stars\"}},\"yaxis\":{\"anchor\":\"x\",\"domain\":[0.0,1.0],\"title\":{},\"autorange\":\"reversed\"},\"legend\":{\"tracegroupgap\":0},\"margin\":{\"t\":60},\"barmode\":\"relative\",\"coloraxis\":{\"colorbar\":{\"title\":{\"text\":\"<a href=\\\"https://report.opensustain.tech/chapters/development-distribution-score.html\\\" style = \\\"color: black >DDS</a>\"},\"orientation\":\"h\",\"y\":-0.15,\"x\":0.4}},\"hoverlabel\":{\"bgcolor\":\"white\"},\"height\":2000,\"title\":{\"text\":\"Projects with the most downloads\"},\"dragmode\":false,\"showlegend\":false},                        {\"responsive\": true}                    ).then(function(){\n",
       "                            \n",
       "var gd = document.getElementById('3492ff28-2d75-4e9c-81b0-81f9d1b91736');\n",
       "var x = new MutationObserver(function (mutations, observer) {{\n",
       "        var display = window.getComputedStyle(gd).display;\n",
       "        if (!display || display === 'none') {{\n",
       "            console.log([gd, 'removed!']);\n",
       "            Plotly.purge(gd);\n",
       "            observer.disconnect();\n",
       "        }}\n",
       "}});\n",
       "\n",
       "// Listen for the removal of the full notebook cells\n",
       "var notebookContainer = gd.closest('#notebook-container');\n",
       "if (notebookContainer) {{\n",
       "    x.observe(notebookContainer, {childList: true});\n",
       "}}\n",
       "\n",
       "// Listen for the clearing of the current output cell\n",
       "var outputEl = gd.closest('.output');\n",
       "if (outputEl) {{\n",
       "    x.observe(outputEl, {childList: true});\n",
       "}}\n",
       "\n",
       "                        })                };                });            </script>        </div>"
      ]
     },
     "metadata": {},
     "output_type": "display_data"
    }
   ],
   "source": [
    "import numpy as np\n",
    "import pandas as pd\n",
    "import plotly.io as pio\n",
    "import plotly.graph_objects as go\n",
    "import plotly.express as px\n",
    "\n",
    "top_downloaders = df_extract.nlargest(100, \"download_counts\")\n",
    "\n",
    "fig = px.bar(\n",
    "    top_downloaders,\n",
    "    x=top_downloaders[\"download_counts\"],\n",
    "    y=top_downloaders[\"names\"],\n",
    "    orientation=\"h\",\n",
    ")\n",
    "\n",
    "fig.update_layout(\n",
    "    height=2000,  # Added parameter\n",
    "    #width=700,\n",
    "    xaxis_title=\"Stars\",\n",
    "    yaxis_title=None,\n",
    "    title=\"Projects with the most downloads\",\n",
    "    coloraxis_colorbar=dict(\n",
    "        title='<a href=\"https://report.opensustain.tech/chapters/development-distribution-score.html\" style = \"color: black >DDS</a>',\n",
    "        orientation='h',\n",
    "        y=-0.15,\n",
    "        x=0.4\n",
    "    ),\n",
    "    hoverlabel=dict(bgcolor=\"white\"),\n",
    "    dragmode=False,\n",
    ")\n",
    "\n",
    "\n",
    "fig[\"layout\"][\"yaxis\"][\"autorange\"] = \"reversed\"\n",
    "fig.update(layout_showlegend=False)\n",
    "\n",
    "fig.show()"
   ]
  },
  {
   "cell_type": "code",
   "execution_count": null,
   "id": "c23228ad",
   "metadata": {},
   "outputs": [],
   "source": []
  }
 ],
 "metadata": {
  "kernelspec": {
   "display_name": "Python 3.8 (XPython)",
   "language": "python",
   "name": "xpython"
  },
  "language_info": {
   "file_extension": ".py",
   "mimetype": "text/x-python",
   "name": "python",
   "version": "3.8.9"
  }
 },
 "nbformat": 4,
 "nbformat_minor": 5
}
